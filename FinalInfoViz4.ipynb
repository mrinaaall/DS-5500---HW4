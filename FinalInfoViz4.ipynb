{
 "cells": [
  {
   "cell_type": "code",
   "execution_count": 40,
   "metadata": {},
   "outputs": [],
   "source": [
    "import pandas as pd\n",
    "import numpy as np\n",
    "import matplotlib.pyplot as plt\n",
    "import seaborn as sns\n",
    "import warnings \n",
    "warnings.simplefilter(\"ignore\")"
   ]
  },
  {
   "cell_type": "markdown",
   "metadata": {},
   "source": [
    "### Problem 1:"
   ]
  },
  {
   "cell_type": "code",
   "execution_count": 72,
   "metadata": {},
   "outputs": [
    {
     "data": {
      "text/html": [
       "<div>\n",
       "<style scoped>\n",
       "    .dataframe tbody tr th:only-of-type {\n",
       "        vertical-align: middle;\n",
       "    }\n",
       "\n",
       "    .dataframe tbody tr th {\n",
       "        vertical-align: top;\n",
       "    }\n",
       "\n",
       "    .dataframe thead th {\n",
       "        text-align: right;\n",
       "    }\n",
       "</style>\n",
       "<table border=\"1\" class=\"dataframe\">\n",
       "  <thead>\n",
       "    <tr style=\"text-align: right;\">\n",
       "      <th></th>\n",
       "      <th>LEAID</th>\n",
       "      <th>CENSUSID</th>\n",
       "      <th>FIPST</th>\n",
       "      <th>CONUM</th>\n",
       "      <th>CSA</th>\n",
       "      <th>CBSA</th>\n",
       "      <th>NAME</th>\n",
       "      <th>STNAME</th>\n",
       "      <th>STABBR</th>\n",
       "      <th>SCHLEV</th>\n",
       "      <th>...</th>\n",
       "      <th>FL_61V</th>\n",
       "      <th>FL_66V</th>\n",
       "      <th>FL_W01</th>\n",
       "      <th>FL_W31</th>\n",
       "      <th>FL_W61</th>\n",
       "      <th>FL_V95</th>\n",
       "      <th>FL_V02</th>\n",
       "      <th>FL_K14</th>\n",
       "      <th>FL_CE1</th>\n",
       "      <th>FL_CE2</th>\n",
       "    </tr>\n",
       "  </thead>\n",
       "  <tbody>\n",
       "    <tr>\n",
       "      <td>0</td>\n",
       "      <td>100002</td>\n",
       "      <td>N</td>\n",
       "      <td>1</td>\n",
       "      <td>01073</td>\n",
       "      <td>142</td>\n",
       "      <td>13820</td>\n",
       "      <td>Alabama Youth Services</td>\n",
       "      <td>Alabama</td>\n",
       "      <td>AL</td>\n",
       "      <td>N</td>\n",
       "      <td>...</td>\n",
       "      <td>M</td>\n",
       "      <td>M</td>\n",
       "      <td>M</td>\n",
       "      <td>M</td>\n",
       "      <td>M</td>\n",
       "      <td>M</td>\n",
       "      <td>M</td>\n",
       "      <td>M</td>\n",
       "      <td>M</td>\n",
       "      <td>M</td>\n",
       "    </tr>\n",
       "    <tr>\n",
       "      <td>1</td>\n",
       "      <td>100005</td>\n",
       "      <td>01504840100000</td>\n",
       "      <td>1</td>\n",
       "      <td>01095</td>\n",
       "      <td>290</td>\n",
       "      <td>10700</td>\n",
       "      <td>Albertville City</td>\n",
       "      <td>Alabama</td>\n",
       "      <td>AL</td>\n",
       "      <td>03</td>\n",
       "      <td>...</td>\n",
       "      <td>M</td>\n",
       "      <td>M</td>\n",
       "      <td>R</td>\n",
       "      <td>R</td>\n",
       "      <td>R</td>\n",
       "      <td>M</td>\n",
       "      <td>M</td>\n",
       "      <td>M</td>\n",
       "      <td>M</td>\n",
       "      <td>M</td>\n",
       "    </tr>\n",
       "    <tr>\n",
       "      <td>2</td>\n",
       "      <td>100006</td>\n",
       "      <td>01504800100000</td>\n",
       "      <td>1</td>\n",
       "      <td>01095</td>\n",
       "      <td>290</td>\n",
       "      <td>10700</td>\n",
       "      <td>Marshall County</td>\n",
       "      <td>Alabama</td>\n",
       "      <td>AL</td>\n",
       "      <td>03</td>\n",
       "      <td>...</td>\n",
       "      <td>M</td>\n",
       "      <td>M</td>\n",
       "      <td>R</td>\n",
       "      <td>R</td>\n",
       "      <td>R</td>\n",
       "      <td>M</td>\n",
       "      <td>M</td>\n",
       "      <td>M</td>\n",
       "      <td>M</td>\n",
       "      <td>M</td>\n",
       "    </tr>\n",
       "    <tr>\n",
       "      <td>3</td>\n",
       "      <td>100007</td>\n",
       "      <td>01503740100000</td>\n",
       "      <td>1</td>\n",
       "      <td>01073</td>\n",
       "      <td>142</td>\n",
       "      <td>13820</td>\n",
       "      <td>Hoover City</td>\n",
       "      <td>Alabama</td>\n",
       "      <td>AL</td>\n",
       "      <td>03</td>\n",
       "      <td>...</td>\n",
       "      <td>M</td>\n",
       "      <td>M</td>\n",
       "      <td>R</td>\n",
       "      <td>R</td>\n",
       "      <td>R</td>\n",
       "      <td>M</td>\n",
       "      <td>M</td>\n",
       "      <td>M</td>\n",
       "      <td>M</td>\n",
       "      <td>M</td>\n",
       "    </tr>\n",
       "    <tr>\n",
       "      <td>4</td>\n",
       "      <td>100008</td>\n",
       "      <td>01504530100000</td>\n",
       "      <td>1</td>\n",
       "      <td>01089</td>\n",
       "      <td>290</td>\n",
       "      <td>26620</td>\n",
       "      <td>Madison City</td>\n",
       "      <td>Alabama</td>\n",
       "      <td>AL</td>\n",
       "      <td>03</td>\n",
       "      <td>...</td>\n",
       "      <td>M</td>\n",
       "      <td>M</td>\n",
       "      <td>R</td>\n",
       "      <td>R</td>\n",
       "      <td>R</td>\n",
       "      <td>M</td>\n",
       "      <td>M</td>\n",
       "      <td>M</td>\n",
       "      <td>M</td>\n",
       "      <td>M</td>\n",
       "    </tr>\n",
       "  </tbody>\n",
       "</table>\n",
       "<p>5 rows × 260 columns</p>\n",
       "</div>"
      ],
      "text/plain": [
       "    LEAID        CENSUSID  FIPST  CONUM  CSA   CBSA                    NAME  \\\n",
       "0  100002               N      1  01073  142  13820  Alabama Youth Services   \n",
       "1  100005  01504840100000      1  01095  290  10700        Albertville City   \n",
       "2  100006  01504800100000      1  01095  290  10700         Marshall County   \n",
       "3  100007  01503740100000      1  01073  142  13820             Hoover City   \n",
       "4  100008  01504530100000      1  01089  290  26620            Madison City   \n",
       "\n",
       "    STNAME STABBR SCHLEV  ... FL_61V  FL_66V  FL_W01  FL_W31 FL_W61 FL_V95  \\\n",
       "0  Alabama     AL      N  ...      M       M       M       M      M      M   \n",
       "1  Alabama     AL     03  ...      M       M       R       R      R      M   \n",
       "2  Alabama     AL     03  ...      M       M       R       R      R      M   \n",
       "3  Alabama     AL     03  ...      M       M       R       R      R      M   \n",
       "4  Alabama     AL     03  ...      M       M       R       R      R      M   \n",
       "\n",
       "   FL_V02  FL_K14  FL_CE1  FL_CE2  \n",
       "0       M       M       M       M  \n",
       "1       M       M       M       M  \n",
       "2       M       M       M       M  \n",
       "3       M       M       M       M  \n",
       "4       M       M       M       M  \n",
       "\n",
       "[5 rows x 260 columns]"
      ]
     },
     "execution_count": 72,
     "metadata": {},
     "output_type": "execute_result"
    }
   ],
   "source": [
    "__fiscalData = pd.read_csv('/Users/mrinal/Downloads/Sdf16_1a.txt', sep='\\t')\n",
    "__fiscalData.head()"
   ]
  },
  {
   "cell_type": "code",
   "execution_count": 73,
   "metadata": {},
   "outputs": [
    {
     "name": "stdout",
     "output_type": "stream",
     "text": [
      "The total federal revenue is 55602742000\n",
      "Total cut is  8340411300.0\n"
     ]
    },
    {
     "data": {
      "text/html": [
       "<div>\n",
       "<style scoped>\n",
       "    .dataframe tbody tr th:only-of-type {\n",
       "        vertical-align: middle;\n",
       "    }\n",
       "\n",
       "    .dataframe tbody tr th {\n",
       "        vertical-align: top;\n",
       "    }\n",
       "\n",
       "    .dataframe thead th {\n",
       "        text-align: right;\n",
       "    }\n",
       "</style>\n",
       "<table border=\"1\" class=\"dataframe\">\n",
       "  <thead>\n",
       "    <tr style=\"text-align: right;\">\n",
       "      <th></th>\n",
       "      <th>LEAID</th>\n",
       "      <th>Cut_Amount</th>\n",
       "    </tr>\n",
       "  </thead>\n",
       "  <tbody>\n",
       "    <tr>\n",
       "      <td>1</td>\n",
       "      <td>100005</td>\n",
       "      <td>8.912264e+05</td>\n",
       "    </tr>\n",
       "    <tr>\n",
       "      <td>3</td>\n",
       "      <td>100007</td>\n",
       "      <td>7.692256e+05</td>\n",
       "    </tr>\n",
       "    <tr>\n",
       "      <td>4</td>\n",
       "      <td>100008</td>\n",
       "      <td>1.409951e+06</td>\n",
       "    </tr>\n",
       "    <tr>\n",
       "      <td>7</td>\n",
       "      <td>100012</td>\n",
       "      <td>1.181606e+05</td>\n",
       "    </tr>\n",
       "    <tr>\n",
       "      <td>21</td>\n",
       "      <td>100030</td>\n",
       "      <td>8.306691e+05</td>\n",
       "    </tr>\n",
       "  </tbody>\n",
       "</table>\n",
       "</div>"
      ],
      "text/plain": [
       "     LEAID    Cut_Amount\n",
       "1   100005  8.912264e+05\n",
       "3   100007  7.692256e+05\n",
       "4   100008  1.409951e+06\n",
       "7   100012  1.181606e+05\n",
       "21  100030  8.306691e+05"
      ]
     },
     "execution_count": 73,
     "metadata": {},
     "output_type": "execute_result"
    }
   ],
   "source": [
    "total_cut = __fiscalData[__fiscalData['TFEDREV'] >0]\n",
    "total_fed_revenue = total_cut['TFEDREV'].sum()\n",
    "print('The total federal revenue is', total_fed_revenue)\n",
    "cut = total_fed_revenue * 0.15\n",
    "print('Total cut is ', cut)\n",
    "__revCut = __fiscalData[[\"LEAID\", \"TOTALEXP\", \"TOTALREV\",\"NAME\"]].reset_index()\n",
    "__revCut[\"Extra\"] = __revCut[\"TOTALREV\"] - __revCut[\"TOTALEXP\"]\n",
    "__revCut = __revCut[__revCut['Extra'] >0]\n",
    "__revCut.sort_values(by=\"Extra\",ascending=False)\n",
    "\n",
    "__extra = __revCut['Extra'].sum()\n",
    "__cutProp = cut/ __extra\n",
    "__revCut['Cut_Amount'] = __cutProp * __revCut['Extra']\n",
    "__revCut[['LEAID', 'Cut_Amount']].head()"
   ]
  },
  {
   "cell_type": "code",
   "execution_count": 74,
   "metadata": {},
   "outputs": [
    {
     "data": {
      "text/plain": [
       "1                            Albertville City\n",
       "3                                 Hoover City\n",
       "4                                Madison City\n",
       "7                                   Boaz City\n",
       "21                             Alexander City\n",
       "                         ...                 \n",
       "18697    Sweetwater County School District #2\n",
       "18698      Washakie County School District #2\n",
       "18699         Teton County School District #1\n",
       "18700        Weston County School District #7\n",
       "18701      Washakie County School District #1\n",
       "Name: NAME, Length: 11536, dtype: object"
      ]
     },
     "execution_count": 74,
     "metadata": {},
     "output_type": "execute_result"
    }
   ],
   "source": [
    "__revCut[__revCut['Cut_Amount'] >0]['NAME']"
   ]
  },
  {
   "cell_type": "code",
   "execution_count": 75,
   "metadata": {},
   "outputs": [
    {
     "data": {
      "text/html": [
       "<div>\n",
       "<style scoped>\n",
       "    .dataframe tbody tr th:only-of-type {\n",
       "        vertical-align: middle;\n",
       "    }\n",
       "\n",
       "    .dataframe tbody tr th {\n",
       "        vertical-align: top;\n",
       "    }\n",
       "\n",
       "    .dataframe thead th {\n",
       "        text-align: right;\n",
       "    }\n",
       "</style>\n",
       "<table border=\"1\" class=\"dataframe\">\n",
       "  <thead>\n",
       "    <tr style=\"text-align: right;\">\n",
       "      <th></th>\n",
       "      <th>NAME</th>\n",
       "      <th>Cut_Amount</th>\n",
       "      <th>PROPORTION</th>\n",
       "    </tr>\n",
       "  </thead>\n",
       "  <tbody>\n",
       "    <tr>\n",
       "      <td>15956</td>\n",
       "      <td>WINDHAM SCHOOL DISTRICT</td>\n",
       "      <td>946171.088831</td>\n",
       "      <td>0.295402</td>\n",
       "    </tr>\n",
       "    <tr>\n",
       "      <td>345</td>\n",
       "      <td>Desert Springs Academy</td>\n",
       "      <td>156267.407428</td>\n",
       "      <td>0.295402</td>\n",
       "    </tr>\n",
       "    <tr>\n",
       "      <td>12352</td>\n",
       "      <td>ROUGHRIDER AREA CAREER &amp; TECHNICAL CENTER</td>\n",
       "      <td>107821.557110</td>\n",
       "      <td>0.295402</td>\n",
       "    </tr>\n",
       "    <tr>\n",
       "      <td>10142</td>\n",
       "      <td>Central Jersey Arts Charter School</td>\n",
       "      <td>101027.322004</td>\n",
       "      <td>0.295402</td>\n",
       "    </tr>\n",
       "    <tr>\n",
       "      <td>15838</td>\n",
       "      <td>CHILDREN FIRST ACADEMY OF DALLAS</td>\n",
       "      <td>43424.024370</td>\n",
       "      <td>0.295402</td>\n",
       "    </tr>\n",
       "  </tbody>\n",
       "</table>\n",
       "</div>"
      ],
      "text/plain": [
       "                                            NAME     Cut_Amount  PROPORTION\n",
       "15956                    WINDHAM SCHOOL DISTRICT  946171.088831    0.295402\n",
       "345                       Desert Springs Academy  156267.407428    0.295402\n",
       "12352  ROUGHRIDER AREA CAREER & TECHNICAL CENTER  107821.557110    0.295402\n",
       "10142         Central Jersey Arts Charter School  101027.322004    0.295402\n",
       "15838           CHILDREN FIRST ACADEMY OF DALLAS   43424.024370    0.295402"
      ]
     },
     "execution_count": 75,
     "metadata": {},
     "output_type": "execute_result"
    }
   ],
   "source": [
    "__revCut['PROPORTION'] = __revCut[\"Cut_Amount\"] / __revCut[\"TOTALREV\"]\n",
    "__revCut[['NAME', 'Cut_Amount','PROPORTION']].sort_values(by=\"PROPORTION\", ascending=False).head()"
   ]
  },
  {
   "cell_type": "code",
   "execution_count": 82,
   "metadata": {},
   "outputs": [
    {
     "data": {
      "text/html": [
       "<div>\n",
       "<style scoped>\n",
       "    .dataframe tbody tr th:only-of-type {\n",
       "        vertical-align: middle;\n",
       "    }\n",
       "\n",
       "    .dataframe tbody tr th {\n",
       "        vertical-align: top;\n",
       "    }\n",
       "\n",
       "    .dataframe thead th {\n",
       "        text-align: right;\n",
       "    }\n",
       "</style>\n",
       "<table border=\"1\" class=\"dataframe\">\n",
       "  <thead>\n",
       "    <tr style=\"text-align: right;\">\n",
       "      <th></th>\n",
       "      <th>index</th>\n",
       "      <th>LEAID</th>\n",
       "      <th>TOTALEXP</th>\n",
       "      <th>TOTALREV</th>\n",
       "      <th>NAME</th>\n",
       "      <th>Extra</th>\n",
       "      <th>Cut_Amount</th>\n",
       "      <th>PROPORTION</th>\n",
       "    </tr>\n",
       "  </thead>\n",
       "  <tbody>\n",
       "    <tr>\n",
       "      <td>3126</td>\n",
       "      <td>3126</td>\n",
       "      <td>1300232</td>\n",
       "      <td>75954000</td>\n",
       "      <td>75958000</td>\n",
       "      <td>State Charter Schools- Georgia Cyber Academy</td>\n",
       "      <td>4000</td>\n",
       "      <td>1181.606105</td>\n",
       "      <td>0.000016</td>\n",
       "    </tr>\n",
       "    <tr>\n",
       "      <td>7054</td>\n",
       "      <td>7054</td>\n",
       "      <td>2601070</td>\n",
       "      <td>18090000</td>\n",
       "      <td>18091000</td>\n",
       "      <td>Michigan Great Lakes Virtual Academy</td>\n",
       "      <td>1000</td>\n",
       "      <td>295.401526</td>\n",
       "      <td>0.000016</td>\n",
       "    </tr>\n",
       "    <tr>\n",
       "      <td>5833</td>\n",
       "      <td>5833</td>\n",
       "      <td>2200047</td>\n",
       "      <td>16940000</td>\n",
       "      <td>16941000</td>\n",
       "      <td>Office of Juvenile Justice</td>\n",
       "      <td>1000</td>\n",
       "      <td>295.401526</td>\n",
       "      <td>0.000017</td>\n",
       "    </tr>\n",
       "    <tr>\n",
       "      <td>18127</td>\n",
       "      <td>18127</td>\n",
       "      <td>5400511</td>\n",
       "      <td>14743000</td>\n",
       "      <td>14744000</td>\n",
       "      <td>INSTITUTIONAL EDUCATIONAL PROGRAMS</td>\n",
       "      <td>1000</td>\n",
       "      <td>295.401526</td>\n",
       "      <td>0.000020</td>\n",
       "    </tr>\n",
       "    <tr>\n",
       "      <td>18364</td>\n",
       "      <td>18364</td>\n",
       "      <td>5505670</td>\n",
       "      <td>14580000</td>\n",
       "      <td>14581000</td>\n",
       "      <td>Grantsburg School District</td>\n",
       "      <td>1000</td>\n",
       "      <td>295.401526</td>\n",
       "      <td>0.000020</td>\n",
       "    </tr>\n",
       "  </tbody>\n",
       "</table>\n",
       "</div>"
      ],
      "text/plain": [
       "       index    LEAID  TOTALEXP  TOTALREV  \\\n",
       "3126    3126  1300232  75954000  75958000   \n",
       "7054    7054  2601070  18090000  18091000   \n",
       "5833    5833  2200047  16940000  16941000   \n",
       "18127  18127  5400511  14743000  14744000   \n",
       "18364  18364  5505670  14580000  14581000   \n",
       "\n",
       "                                               NAME  Extra   Cut_Amount  \\\n",
       "3126   State Charter Schools- Georgia Cyber Academy   4000  1181.606105   \n",
       "7054           Michigan Great Lakes Virtual Academy   1000   295.401526   \n",
       "5833                     Office of Juvenile Justice   1000   295.401526   \n",
       "18127            INSTITUTIONAL EDUCATIONAL PROGRAMS   1000   295.401526   \n",
       "18364                    Grantsburg School District   1000   295.401526   \n",
       "\n",
       "       PROPORTION  \n",
       "3126     0.000016  \n",
       "7054     0.000016  \n",
       "5833     0.000017  \n",
       "18127    0.000020  \n",
       "18364    0.000020  "
      ]
     },
     "execution_count": 82,
     "metadata": {},
     "output_type": "execute_result"
    },
    {
     "data": {
      "image/png": "[encoded data removed]",
      "text/plain": [
       "<Figure size 432x288 with 1 Axes>"
      ]
     },
     "metadata": {
      "needs_background": "light"
     },
     "output_type": "display_data"
    }
   ],
   "source": [
    "plt.hist(__revCut['PROPORTION'], bins = 50)\n",
    "__sortedDist = __revCut.sort_values(by = ['PROPORTION'], ascending = 'False')\n",
    "__sortedDist.head()"
   ]
  },
  {
   "cell_type": "markdown",
   "metadata": {},
   "source": [
    "### Problem 2:"
   ]
  },
  {
   "cell_type": "code",
   "execution_count": 50,
   "metadata": {},
   "outputs": [
    {
     "data": {
      "text/html": [
       "<div>\n",
       "<style scoped>\n",
       "    .dataframe tbody tr th:only-of-type {\n",
       "        vertical-align: middle;\n",
       "    }\n",
       "\n",
       "    .dataframe tbody tr th {\n",
       "        vertical-align: top;\n",
       "    }\n",
       "\n",
       "    .dataframe thead th {\n",
       "        text-align: right;\n",
       "    }\n",
       "</style>\n",
       "<table border=\"1\" class=\"dataframe\">\n",
       "  <thead>\n",
       "    <tr style=\"text-align: right;\">\n",
       "      <th></th>\n",
       "      <th>SURVYEAR</th>\n",
       "      <th>FIPST</th>\n",
       "      <th>STABR</th>\n",
       "      <th>STATENAME</th>\n",
       "      <th>SEANAME</th>\n",
       "      <th>LEAID</th>\n",
       "      <th>ST_LEAID</th>\n",
       "      <th>LEA_NAME</th>\n",
       "      <th>PK</th>\n",
       "      <th>KG</th>\n",
       "      <th>...</th>\n",
       "      <th>BLALF</th>\n",
       "      <th>WH</th>\n",
       "      <th>WHALM</th>\n",
       "      <th>WHALF</th>\n",
       "      <th>HP</th>\n",
       "      <th>HPALM</th>\n",
       "      <th>HPALF</th>\n",
       "      <th>TR</th>\n",
       "      <th>TRALM</th>\n",
       "      <th>TRALF</th>\n",
       "    </tr>\n",
       "  </thead>\n",
       "  <tbody>\n",
       "    <tr>\n",
       "      <td>0</td>\n",
       "      <td>2015-2016</td>\n",
       "      <td>1</td>\n",
       "      <td>AL</td>\n",
       "      <td>ALABAMA</td>\n",
       "      <td>Alabama Department Of Education</td>\n",
       "      <td>100002</td>\n",
       "      <td>210</td>\n",
       "      <td>Alabama Youth Services</td>\n",
       "      <td>-1</td>\n",
       "      <td>-1</td>\n",
       "      <td>...</td>\n",
       "      <td>-1</td>\n",
       "      <td>-1</td>\n",
       "      <td>-1</td>\n",
       "      <td>-1</td>\n",
       "      <td>-1</td>\n",
       "      <td>-1</td>\n",
       "      <td>-1</td>\n",
       "      <td>-1</td>\n",
       "      <td>-1</td>\n",
       "      <td>-1</td>\n",
       "    </tr>\n",
       "    <tr>\n",
       "      <td>1</td>\n",
       "      <td>2015-2016</td>\n",
       "      <td>1</td>\n",
       "      <td>AL</td>\n",
       "      <td>ALABAMA</td>\n",
       "      <td>Alabama Department Of Education</td>\n",
       "      <td>100005</td>\n",
       "      <td>101</td>\n",
       "      <td>Albertville City</td>\n",
       "      <td>118</td>\n",
       "      <td>491</td>\n",
       "      <td>...</td>\n",
       "      <td>68</td>\n",
       "      <td>2619</td>\n",
       "      <td>1310</td>\n",
       "      <td>1309</td>\n",
       "      <td>4</td>\n",
       "      <td>0</td>\n",
       "      <td>4</td>\n",
       "      <td>119</td>\n",
       "      <td>66</td>\n",
       "      <td>53</td>\n",
       "    </tr>\n",
       "    <tr>\n",
       "      <td>2</td>\n",
       "      <td>2015-2016</td>\n",
       "      <td>1</td>\n",
       "      <td>AL</td>\n",
       "      <td>ALABAMA</td>\n",
       "      <td>Alabama Department Of Education</td>\n",
       "      <td>100006</td>\n",
       "      <td>48</td>\n",
       "      <td>Marshall County</td>\n",
       "      <td>154</td>\n",
       "      <td>380</td>\n",
       "      <td>...</td>\n",
       "      <td>24</td>\n",
       "      <td>4331</td>\n",
       "      <td>2228</td>\n",
       "      <td>2103</td>\n",
       "      <td>2</td>\n",
       "      <td>1</td>\n",
       "      <td>1</td>\n",
       "      <td>49</td>\n",
       "      <td>28</td>\n",
       "      <td>21</td>\n",
       "    </tr>\n",
       "    <tr>\n",
       "      <td>3</td>\n",
       "      <td>2015-2016</td>\n",
       "      <td>1</td>\n",
       "      <td>AL</td>\n",
       "      <td>ALABAMA</td>\n",
       "      <td>Alabama Department Of Education</td>\n",
       "      <td>100007</td>\n",
       "      <td>158</td>\n",
       "      <td>Hoover City</td>\n",
       "      <td>65</td>\n",
       "      <td>942</td>\n",
       "      <td>...</td>\n",
       "      <td>1724</td>\n",
       "      <td>8131</td>\n",
       "      <td>4230</td>\n",
       "      <td>3901</td>\n",
       "      <td>14</td>\n",
       "      <td>5</td>\n",
       "      <td>9</td>\n",
       "      <td>275</td>\n",
       "      <td>140</td>\n",
       "      <td>135</td>\n",
       "    </tr>\n",
       "    <tr>\n",
       "      <td>4</td>\n",
       "      <td>2015-2016</td>\n",
       "      <td>1</td>\n",
       "      <td>AL</td>\n",
       "      <td>ALABAMA</td>\n",
       "      <td>Alabama Department Of Education</td>\n",
       "      <td>100008</td>\n",
       "      <td>169</td>\n",
       "      <td>Madison City</td>\n",
       "      <td>156</td>\n",
       "      <td>596</td>\n",
       "      <td>...</td>\n",
       "      <td>959</td>\n",
       "      <td>6186</td>\n",
       "      <td>3187</td>\n",
       "      <td>2999</td>\n",
       "      <td>27</td>\n",
       "      <td>14</td>\n",
       "      <td>13</td>\n",
       "      <td>393</td>\n",
       "      <td>182</td>\n",
       "      <td>211</td>\n",
       "    </tr>\n",
       "  </tbody>\n",
       "</table>\n",
       "<p>5 rows × 286 columns</p>\n",
       "</div>"
      ],
      "text/plain": [
       "    SURVYEAR  FIPST STABR STATENAME                          SEANAME   LEAID  \\\n",
       "0  2015-2016      1    AL   ALABAMA  Alabama Department Of Education  100002   \n",
       "1  2015-2016      1    AL   ALABAMA  Alabama Department Of Education  100005   \n",
       "2  2015-2016      1    AL   ALABAMA  Alabama Department Of Education  100006   \n",
       "3  2015-2016      1    AL   ALABAMA  Alabama Department Of Education  100007   \n",
       "4  2015-2016      1    AL   ALABAMA  Alabama Department Of Education  100008   \n",
       "\n",
       "  ST_LEAID                LEA_NAME   PK   KG  ...  BLALF    WH  WHALM  WHALF  \\\n",
       "0      210  Alabama Youth Services   -1   -1  ...     -1    -1     -1     -1   \n",
       "1      101        Albertville City  118  491  ...     68  2619   1310   1309   \n",
       "2       48         Marshall County  154  380  ...     24  4331   2228   2103   \n",
       "3      158             Hoover City   65  942  ...   1724  8131   4230   3901   \n",
       "4      169            Madison City  156  596  ...    959  6186   3187   2999   \n",
       "\n",
       "   HP  HPALM  HPALF   TR  TRALM  TRALF  \n",
       "0  -1     -1     -1   -1     -1     -1  \n",
       "1   4      0      4  119     66     53  \n",
       "2   2      1      1   49     28     21  \n",
       "3  14      5      9  275    140    135  \n",
       "4  27     14     13  393    182    211  \n",
       "\n",
       "[5 rows x 286 columns]"
      ]
     },
     "execution_count": 50,
     "metadata": {},
     "output_type": "execute_result"
    }
   ],
   "source": [
    "data = pd.read_csv('/Users/mrinal/Downloads/ccd_lea_052_1516_w_1a_011717.csv')\n",
    "data.head()"
   ]
  },
  {
   "cell_type": "code",
   "execution_count": 65,
   "metadata": {},
   "outputs": [
    {
     "data": {
      "text/html": [
       "<div>\n",
       "<style scoped>\n",
       "    .dataframe tbody tr th:only-of-type {\n",
       "        vertical-align: middle;\n",
       "    }\n",
       "\n",
       "    .dataframe tbody tr th {\n",
       "        vertical-align: top;\n",
       "    }\n",
       "\n",
       "    .dataframe thead th {\n",
       "        text-align: right;\n",
       "    }\n",
       "</style>\n",
       "<table border=\"1\" class=\"dataframe\">\n",
       "  <thead>\n",
       "    <tr style=\"text-align: right;\">\n",
       "      <th></th>\n",
       "      <th>STATENAME</th>\n",
       "      <th>LEAID</th>\n",
       "      <th>TOTAL</th>\n",
       "      <th>AM</th>\n",
       "      <th>AS</th>\n",
       "      <th>HI</th>\n",
       "      <th>BL</th>\n",
       "      <th>WH</th>\n",
       "      <th>HP</th>\n",
       "      <th>TR</th>\n",
       "      <th>AM_PROP</th>\n",
       "      <th>AS_PROP</th>\n",
       "      <th>HI_PROP</th>\n",
       "      <th>BL_PROP</th>\n",
       "      <th>WH_PROP</th>\n",
       "      <th>HP_PROP</th>\n",
       "      <th>TR_PROP</th>\n",
       "    </tr>\n",
       "  </thead>\n",
       "  <tbody>\n",
       "    <tr>\n",
       "      <td>1</td>\n",
       "      <td>ALABAMA</td>\n",
       "      <td>100005</td>\n",
       "      <td>5214</td>\n",
       "      <td>14</td>\n",
       "      <td>17</td>\n",
       "      <td>2289</td>\n",
       "      <td>152</td>\n",
       "      <td>2619</td>\n",
       "      <td>4</td>\n",
       "      <td>119</td>\n",
       "      <td>0.002685</td>\n",
       "      <td>0.003260</td>\n",
       "      <td>0.439010</td>\n",
       "      <td>0.029152</td>\n",
       "      <td>0.502301</td>\n",
       "      <td>0.000767</td>\n",
       "      <td>0.022823</td>\n",
       "    </tr>\n",
       "    <tr>\n",
       "      <td>2</td>\n",
       "      <td>ALABAMA</td>\n",
       "      <td>100006</td>\n",
       "      <td>5635</td>\n",
       "      <td>26</td>\n",
       "      <td>17</td>\n",
       "      <td>1160</td>\n",
       "      <td>50</td>\n",
       "      <td>4331</td>\n",
       "      <td>2</td>\n",
       "      <td>49</td>\n",
       "      <td>0.004614</td>\n",
       "      <td>0.003017</td>\n",
       "      <td>0.205856</td>\n",
       "      <td>0.008873</td>\n",
       "      <td>0.768589</td>\n",
       "      <td>0.000355</td>\n",
       "      <td>0.008696</td>\n",
       "    </tr>\n",
       "    <tr>\n",
       "      <td>3</td>\n",
       "      <td>ALABAMA</td>\n",
       "      <td>100007</td>\n",
       "      <td>13910</td>\n",
       "      <td>10</td>\n",
       "      <td>931</td>\n",
       "      <td>1008</td>\n",
       "      <td>3541</td>\n",
       "      <td>8131</td>\n",
       "      <td>14</td>\n",
       "      <td>275</td>\n",
       "      <td>0.000719</td>\n",
       "      <td>0.066930</td>\n",
       "      <td>0.072466</td>\n",
       "      <td>0.254565</td>\n",
       "      <td>0.584543</td>\n",
       "      <td>0.001006</td>\n",
       "      <td>0.019770</td>\n",
       "    </tr>\n",
       "    <tr>\n",
       "      <td>4</td>\n",
       "      <td>ALABAMA</td>\n",
       "      <td>100008</td>\n",
       "      <td>10011</td>\n",
       "      <td>62</td>\n",
       "      <td>862</td>\n",
       "      <td>439</td>\n",
       "      <td>2042</td>\n",
       "      <td>6186</td>\n",
       "      <td>27</td>\n",
       "      <td>393</td>\n",
       "      <td>0.006193</td>\n",
       "      <td>0.086105</td>\n",
       "      <td>0.043852</td>\n",
       "      <td>0.203976</td>\n",
       "      <td>0.617920</td>\n",
       "      <td>0.002697</td>\n",
       "      <td>0.039257</td>\n",
       "    </tr>\n",
       "    <tr>\n",
       "      <td>6</td>\n",
       "      <td>ALABAMA</td>\n",
       "      <td>100011</td>\n",
       "      <td>1905</td>\n",
       "      <td>2</td>\n",
       "      <td>13</td>\n",
       "      <td>241</td>\n",
       "      <td>433</td>\n",
       "      <td>1148</td>\n",
       "      <td>5</td>\n",
       "      <td>63</td>\n",
       "      <td>0.001050</td>\n",
       "      <td>0.006824</td>\n",
       "      <td>0.126509</td>\n",
       "      <td>0.227297</td>\n",
       "      <td>0.602625</td>\n",
       "      <td>0.002625</td>\n",
       "      <td>0.033071</td>\n",
       "    </tr>\n",
       "  </tbody>\n",
       "</table>\n",
       "</div>"
      ],
      "text/plain": [
       "  STATENAME   LEAID  TOTAL  AM   AS    HI    BL    WH  HP   TR   AM_PROP  \\\n",
       "1   ALABAMA  100005   5214  14   17  2289   152  2619   4  119  0.002685   \n",
       "2   ALABAMA  100006   5635  26   17  1160    50  4331   2   49  0.004614   \n",
       "3   ALABAMA  100007  13910  10  931  1008  3541  8131  14  275  0.000719   \n",
       "4   ALABAMA  100008  10011  62  862   439  2042  6186  27  393  0.006193   \n",
       "6   ALABAMA  100011   1905   2   13   241   433  1148   5   63  0.001050   \n",
       "\n",
       "    AS_PROP   HI_PROP   BL_PROP   WH_PROP   HP_PROP   TR_PROP  \n",
       "1  0.003260  0.439010  0.029152  0.502301  0.000767  0.022823  \n",
       "2  0.003017  0.205856  0.008873  0.768589  0.000355  0.008696  \n",
       "3  0.066930  0.072466  0.254565  0.584543  0.001006  0.019770  \n",
       "4  0.086105  0.043852  0.203976  0.617920  0.002697  0.039257  \n",
       "6  0.006824  0.126509  0.227297  0.602625  0.002625  0.033071  "
      ]
     },
     "execution_count": 65,
     "metadata": {},
     "output_type": "execute_result"
    }
   ],
   "source": [
    "__membData = data[(data.TOTAL > 0)][['STATENAME','LEAID','TOTAL','AM', 'AS','HI', 'BL', 'WH', 'HP', 'TR']]\n",
    "\n",
    "__membData['AM_PROP'] = __membData['AM'] / __membData['TOTAL']\n",
    "__membData['AS_PROP'] = __membData['AS'] / __membData['TOTAL']\n",
    "__membData['HI_PROP'] = __membData['HI'] / __membData['TOTAL']\n",
    "__membData['BL_PROP'] = __membData['BL'] / __membData['TOTAL']\n",
    "__membData['WH_PROP'] = __membData['WH'] / __membData['TOTAL']\n",
    "__membData['HP_PROP'] = __membData['HP'] /__membData['TOTAL']\n",
    "__membData['TR_PROP'] = __membData['TR'] / __membData['TOTAL']\n",
    "__membData.head()"
   ]
  },
  {
   "cell_type": "code",
   "execution_count": 66,
   "metadata": {},
   "outputs": [
    {
     "name": "stdout",
     "output_type": "stream",
     "text": [
      "AM_PROP\n"
     ]
    },
    {
     "data": {
      "image/png": "[encoded data removed]",
      "text/plain": [
       "<Figure size 432x288 with 1 Axes>"
      ]
     },
     "metadata": {
      "needs_background": "light"
     },
     "output_type": "display_data"
    },
    {
     "name": "stdout",
     "output_type": "stream",
     "text": [
      "AS_PROP\n"
     ]
    },
    {
     "data": {
      "image/png": "[encoded data removed]",
      "text/plain": [
       "<Figure size 432x288 with 1 Axes>"
      ]
     },
     "metadata": {
      "needs_background": "light"
     },
     "output_type": "display_data"
    },
    {
     "name": "stdout",
     "output_type": "stream",
     "text": [
      "HI_PROP\n"
     ]
    },
    {
     "data": {
      "image/png": "[encoded data removed]",
      "text/plain": [
       "<Figure size 432x288 with 1 Axes>"
      ]
     },
     "metadata": {
      "needs_background": "light"
     },
     "output_type": "display_data"
    },
    {
     "name": "stdout",
     "output_type": "stream",
     "text": [
      "BL_PROP\n"
     ]
    },
    {
     "data": {
      "image/png": "[encoded data removed]",
      "text/plain": [
       "<Figure size 432x288 with 1 Axes>"
      ]
     },
     "metadata": {
      "needs_background": "light"
     },
     "output_type": "display_data"
    },
    {
     "name": "stdout",
     "output_type": "stream",
     "text": [
      "WH_PROP\n"
     ]
    },
    {
     "data": {
      "image/png": "[encoded data removed]",
      "text/plain": [
       "<Figure size 432x288 with 1 Axes>"
      ]
     },
     "metadata": {
      "needs_background": "light"
     },
     "output_type": "display_data"
    },
    {
     "name": "stdout",
     "output_type": "stream",
     "text": [
      "HP_PROP\n"
     ]
    },
    {
     "data": {
      "image/png": "[encoded data removed]",
      "text/plain": [
       "<Figure size 432x288 with 1 Axes>"
      ]
     },
     "metadata": {
      "needs_background": "light"
     },
     "output_type": "display_data"
    },
    {
     "name": "stdout",
     "output_type": "stream",
     "text": [
      "TR_PROP\n"
     ]
    },
    {
     "data": {
      "image/png": "[encoded data removed]",
      "text/plain": [
       "<Figure size 432x288 with 1 Axes>"
      ]
     },
     "metadata": {
      "needs_background": "light"
     },
     "output_type": "display_data"
    }
   ],
   "source": [
    "__membRev = __membData.merge(__revCut,on=['LEAID'],how='left')\n",
    "__raceDict = {'BL': 'Black','AM': 'American Indian/Alaska Native','HP': 'Hawaiian Native/Pacific Islander','AS': 'Asian','HI': 'Hispanic','WH': 'White','TR': 'Two or More Races',\n",
    "}\n",
    "__tempCut = __membRev\n",
    "__tempCut['has_cut'] = np.where(__memRev['LEAID'].isin(__revCut['LEAID']), 'cut', 'no_cut')\n",
    "for race in ['AM', 'AS','HI', 'BL', 'WH', 'HP', 'TR']:\n",
    "    prop_name = race + '_PROP'\n",
    "    print(prop_name)\n",
    "    fig, ax = plt.subplots()\n",
    "    sns.boxplot(x = \"has_cut\", y = prop_name,hue=\"has_cut\", data = __membRev,ax =ax)  # RUN PLOT  \n",
    "    plt.xlabel('Budget Cut', fontsize=15)\n",
    "    plt.ylabel('Proportion', fontsize=15)\n",
    "    plt.title('Proportion of enrolled students for '+ __raceDict[race])\n",
    "    plt.show()"
   ]
  },
  {
   "cell_type": "markdown",
   "metadata": {},
   "source": [
    "### Problem 3:"
   ]
  },
  {
   "cell_type": "code",
   "execution_count": 67,
   "metadata": {},
   "outputs": [
    {
     "data": {
      "text/html": [
       "<div>\n",
       "<style scoped>\n",
       "    .dataframe tbody tr th:only-of-type {\n",
       "        vertical-align: middle;\n",
       "    }\n",
       "\n",
       "    .dataframe tbody tr th {\n",
       "        vertical-align: top;\n",
       "    }\n",
       "\n",
       "    .dataframe thead th {\n",
       "        text-align: right;\n",
       "    }\n",
       "</style>\n",
       "<table border=\"1\" class=\"dataframe\">\n",
       "  <thead>\n",
       "    <tr style=\"text-align: right;\">\n",
       "      <th></th>\n",
       "      <th>SURVYEAR</th>\n",
       "      <th>FIPST</th>\n",
       "      <th>STABR</th>\n",
       "      <th>STATENAME</th>\n",
       "      <th>SEANAME</th>\n",
       "      <th>LEAID</th>\n",
       "      <th>ST_LEAID</th>\n",
       "      <th>LEA_NAME</th>\n",
       "      <th>SPECED</th>\n",
       "    </tr>\n",
       "  </thead>\n",
       "  <tbody>\n",
       "    <tr>\n",
       "      <td>0</td>\n",
       "      <td>2015-2016</td>\n",
       "      <td>1</td>\n",
       "      <td>AL</td>\n",
       "      <td>ALABAMA</td>\n",
       "      <td>Alabama Department Of Education</td>\n",
       "      <td>100002</td>\n",
       "      <td>210</td>\n",
       "      <td>Alabama Youth Services</td>\n",
       "      <td>24</td>\n",
       "    </tr>\n",
       "    <tr>\n",
       "      <td>1</td>\n",
       "      <td>2015-2016</td>\n",
       "      <td>1</td>\n",
       "      <td>AL</td>\n",
       "      <td>ALABAMA</td>\n",
       "      <td>Alabama Department Of Education</td>\n",
       "      <td>100005</td>\n",
       "      <td>101</td>\n",
       "      <td>Albertville City</td>\n",
       "      <td>267</td>\n",
       "    </tr>\n",
       "    <tr>\n",
       "      <td>2</td>\n",
       "      <td>2015-2016</td>\n",
       "      <td>1</td>\n",
       "      <td>AL</td>\n",
       "      <td>ALABAMA</td>\n",
       "      <td>Alabama Department Of Education</td>\n",
       "      <td>100006</td>\n",
       "      <td>048</td>\n",
       "      <td>Marshall County</td>\n",
       "      <td>430</td>\n",
       "    </tr>\n",
       "    <tr>\n",
       "      <td>3</td>\n",
       "      <td>2015-2016</td>\n",
       "      <td>1</td>\n",
       "      <td>AL</td>\n",
       "      <td>ALABAMA</td>\n",
       "      <td>Alabama Department Of Education</td>\n",
       "      <td>100007</td>\n",
       "      <td>158</td>\n",
       "      <td>Hoover City</td>\n",
       "      <td>861</td>\n",
       "    </tr>\n",
       "    <tr>\n",
       "      <td>4</td>\n",
       "      <td>2015-2016</td>\n",
       "      <td>1</td>\n",
       "      <td>AL</td>\n",
       "      <td>ALABAMA</td>\n",
       "      <td>Alabama Department Of Education</td>\n",
       "      <td>100008</td>\n",
       "      <td>169</td>\n",
       "      <td>Madison City</td>\n",
       "      <td>735</td>\n",
       "    </tr>\n",
       "  </tbody>\n",
       "</table>\n",
       "</div>"
      ],
      "text/plain": [
       "    SURVYEAR  FIPST STABR STATENAME                          SEANAME   LEAID  \\\n",
       "0  2015-2016      1    AL   ALABAMA  Alabama Department Of Education  100002   \n",
       "1  2015-2016      1    AL   ALABAMA  Alabama Department Of Education  100005   \n",
       "2  2015-2016      1    AL   ALABAMA  Alabama Department Of Education  100006   \n",
       "3  2015-2016      1    AL   ALABAMA  Alabama Department Of Education  100007   \n",
       "4  2015-2016      1    AL   ALABAMA  Alabama Department Of Education  100008   \n",
       "\n",
       "  ST_LEAID                LEA_NAME  SPECED  \n",
       "0      210  Alabama Youth Services      24  \n",
       "1      101        Albertville City     267  \n",
       "2      048         Marshall County     430  \n",
       "3      158             Hoover City     861  \n",
       "4      169            Madison City     735  "
      ]
     },
     "execution_count": 67,
     "metadata": {},
     "output_type": "execute_result"
    }
   ],
   "source": [
    "disability_data = pd.read_csv('/Users/mrinal/Downloads/ccd_lea_002089_1516_w_1a_011717.csv')\n",
    "disability_data.head()"
   ]
  },
  {
   "cell_type": "code",
   "execution_count": 61,
   "metadata": {},
   "outputs": [],
   "source": [
    "__membRev = __membRev[(__membRev.TOTAL>0)]"
   ]
  },
  {
   "cell_type": "code",
   "execution_count": 62,
   "metadata": {},
   "outputs": [],
   "source": [
    "merged_df = __membRev.merge(disability_data,on='LEAID',how='left')\n",
    "disability_df = merged_df[(merged_df['TOTAL'] > 0) & (merged_df['SPECED'] > 0)]"
   ]
  },
  {
   "cell_type": "code",
   "execution_count": 63,
   "metadata": {},
   "outputs": [],
   "source": [
    "disability_df['prop_dis'] = (disability_df['SPECED'] / disability_df['TOTAL']).fillna(0)"
   ]
  },
  {
   "cell_type": "code",
   "execution_count": 64,
   "metadata": {},
   "outputs": [
    {
     "data": {
      "image/png": "[encoded data removed]",
      "text/plain": [
       "<Figure size 432x288 with 1 Axes>"
      ]
     },
     "metadata": {
      "needs_background": "light"
     },
     "output_type": "display_data"
    }
   ],
   "source": [
    "fig, ax = plt.subplots()\n",
    "sns.boxplot(x=\"has_cut\", y=\"prop_dis\", hue=\"has_cut\", data=disability_df,ax =ax)  # RUN PLOT  \n",
    "plt.xlabel('Budget Cut', fontsize=15)\n",
    "plt.ylabel('Proportion', fontsize=15)\n",
    "plt.title('Proportion of enrolled students for spec ed. students')\n",
    "plt.show()"
   ]
  },
  {
   "cell_type": "markdown",
   "metadata": {},
   "source": [
    "### Problem 4:"
   ]
  },
  {
   "cell_type": "markdown",
   "metadata": {},
   "source": [
    "The asnwer that i decided to critique was: https://github.com/tonytontian/DS5500/blob/master/hw3/hw3.ipynb\n",
    "\n",
    "Their strategy was to cut off 15% for every distric which got positive number of federal funding, which is similar to the first part of my solution. The advantage was that it is a straightforward way to address the given problem and it is fair to most districts. There are still some disadvantages in this approach. One, it doesn't take return of investment into consideration, meaning that there is no punishment for those who have undesired performance. And it is unfair to districts that performed well based on funding."
   ]
  },
  {
   "cell_type": "markdown",
   "metadata": {},
   "source": [
    "### Problem 5:"
   ]
  },
  {
   "cell_type": "markdown",
   "metadata": {},
   "source": [
    "I would like to talk about the last guest lecture that we had where the pannel provided some really great insights into how to apply to companies, how a lot of titles on job portals do not really demand for applicants to have all the listed skills, which means one should never be intimitated from the titles that recuiters post. They also shared some insights into how the background doesnt really matter when youre looking for a job in the field of data science. Another takeaway was that communication is really important. One should know how to ask the right set of questions, or explain technical concepts to a non-technical person without confusing them and how to talk to higher authorities profesisonally. It was honestly the best guest lecture we had and I would definitely like to get in touch with the pannel for any more insights. "
   ]
  }
 ],
 "metadata": {
  "kernelspec": {
   "display_name": "Python 3",
   "language": "python",
   "name": "python3"
  },
  "language_info": {
   "codemirror_mode": {
    "name": "ipython",
    "version": 3
   },
   "file_extension": ".py",
   "mimetype": "text/x-python",
   "name": "python",
   "nbconvert_exporter": "python",
   "pygments_lexer": "ipython3",
   "version": "3.7.4"
  }
 },
 "nbformat": 4,
 "nbformat_minor": 2
}
